{
 "cells": [
  {
   "cell_type": "markdown",
   "metadata": {},
   "source": [
    "# CMIP6 RAD Data"
   ]
  },
  {
   "cell_type": "markdown",
   "metadata": {},
   "source": [
    "### AMIP-piForcing "
   ]
  },
  {
   "cell_type": "markdown",
   "metadata": {},
   "source": [
    "AMIP-piForcing anomalies can be calculated simply by removing a linear trend and climatological average."
   ]
  },
  {
   "cell_type": "code",
   "execution_count": null,
   "metadata": {},
   "outputs": [],
   "source": [
    "def get_piForcing_data(model,exp_type):\n",
    "    load_path = '/data/keeling/a/cristi/a/esm_data/cmip6/' #path for ESM data\n",
    "    \n",
    "    # All Sky\n",
    "    solar = xr.open_mfdataset(load_path+model+'/amip-piForcing/'+exp_type+'/rsdt_*.nc').rsdt.rename({'lat':'latitude',\n",
    "                                                             'lon':'longitude'}).load()\n",
    "    toa_sw_all = xr.open_mfdataset(load_path+model+'/amip-piForcing/'+exp_type+'/rsut_*.nc').rsut.rename({'lat':'latitude',\n",
    "                                                                  'lon':'longitude'}).load()\n",
    "    toa_lw_all = xr.open_mfdataset(load_path+model+'/amip-piForcing/'+exp_type+'/rlut_*.nc').rlut.rename({'lat':'latitude',\n",
    "                                                                  'lon':'longitude'}).load()\n",
    "    # Clear Sky\n",
    "    toa_sw_clr = xr.open_mfdataset(load_path+model+'/amip-piForcing/'+exp_type+'/rsutcs_*.nc').rsutcs.rename({'lat':'latitude',\n",
    "                                                                  'lon':'longitude'}).load()\n",
    "    toa_lw_clr = xr.open_mfdataset(load_path+model+'/amip-piForcing/'+exp_type+'/rlutcs_*.nc').rlutcs.rename({'lat':'latitude',\n",
    "                                                                  'lon':'longitude'}).load()\n",
    "        \n",
    "    # TAS\n",
    "    TAS = xr.open_mfdataset(load_path+model+'/amip-piForcing/'+exp_type+'/tas_Amon_*.nc').tas.rename({'lat':'latitude',\n",
    "                                                         'lon':'longitude'}).load()\n",
    "    \n",
    "    all_sky = -(toa_sw_all + toa_lw_all - solar)\n",
    "    clr_sky = -(toa_sw_clr + toa_lw_clr - solar)\n",
    "    net_cre = all_sky - clr_sky\n",
    "    sw_cre  = -(toa_sw_all - toa_sw_clr)\n",
    "    lw_cre  = -(toa_lw_all - toa_lw_clr)\n",
    "    \n",
    "    all_sky_rg = all_sky.interp(latitude=new_lat_medRes, longitude=new_lon_medRes)\n",
    "    clr_sky_rg = clr_sky.interp(latitude=new_lat_medRes, longitude=new_lon_medRes)\n",
    "    net_cre_rg = net_cre.interp(latitude=new_lat_medRes, longitude=new_lon_medRes)\n",
    "    sw_cre_rg  = sw_cre.interp(latitude=new_lat_medRes, longitude=new_lon_medRes)\n",
    "    lw_cre_rg  = lw_cre.interp(latitude=new_lat_medRes, longitude=new_lon_medRes)\n",
    "    TAS_rg     = TAS.interp(latitude=new_lat_medRes, longitude=new_lon_medRes)\n",
    "    \n",
    "    all_sky_anom = get_anomaly(all_sky_rg,0)\n",
    "    clr_sky_anom = get_anomaly(clr_sky_rg,0)\n",
    "    net_cre_anom = get_anomaly(net_cre_rg,0)\n",
    "    sw_cre_anom  = get_anomaly(sw_cre_rg,0)\n",
    "    lw_cre_anom  = get_anomaly(lw_cre_rg,0)\n",
    "    TAS_anom     = get_anomaly(TAS_rg,0)\n",
    "    \n",
    "    return all_sky_anom, clr_sky_anom, net_cre_anom, sw_cre_anom, lw_cre_anom, TAS_anom"
   ]
  },
  {
   "cell_type": "markdown",
   "metadata": {},
   "source": [
    "### AMIP"
   ]
  },
  {
   "cell_type": "code",
   "execution_count": null,
   "metadata": {},
   "outputs": [],
   "source": [
    "def get_amip_data(model,exp_type):\n",
    "    load_path = '/data/keeling/a/cristi/a/esm_data/cmip6/' #path for ESM data\n",
    "    \n",
    "    # All Sky\n",
    "    solar = xr.open_mfdataset(load_path+model+'/amip/'+exp_type+'/rsdt_*.nc').rsdt.rename({'lat':'latitude',\n",
    "                                                             'lon':'longitude'}).load()\n",
    "    toa_sw_all = xr.open_mfdataset(load_path+model+'/amip/'+exp_type+'/rsut_*.nc').rsut.rename({'lat':'latitude',\n",
    "                                                                  'lon':'longitude'}).load()\n",
    "    toa_lw_all = xr.open_mfdataset(load_path+model+'/amip/'+exp_type+'/rlut_*.nc').rlut.rename({'lat':'latitude',\n",
    "                                                                  'lon':'longitude'}).load()\n",
    "    # Clear Sky\n",
    "    toa_sw_clr = xr.open_mfdataset(load_path+model+'/amip/'+exp_type+'/rsutcs_*.nc').rsutcs.rename({'lat':'latitude',\n",
    "                                                                  'lon':'longitude'}).load()\n",
    "    toa_lw_clr = xr.open_mfdataset(load_path+model+'/amip/'+exp_type+'/rlutcs_*.nc').rlutcs.rename({'lat':'latitude',\n",
    "                                                                  'lon':'longitude'}).load()\n",
    "    \n",
    "    # SSTs\n",
    "    SST = xr.open_mfdataset(load_path+model+'/amip/'+exp_type+'/ts_Amon_*.nc').ts.rename({'lat':'latitude',\n",
    "                                                         'lon':'longitude'}).load()\n",
    "        \n",
    "    all_sky = -(toa_sw_all + toa_lw_all - solar)\n",
    "    clr_sky = -(toa_sw_clr + toa_lw_clr - solar)\n",
    "    net_cre = all_sky - clr_sky\n",
    "    sw_cre  = -(toa_sw_all - toa_sw_clr)\n",
    "    lw_cre  = -(toa_lw_all - toa_lw_clr)\n",
    "    \n",
    "    all_sky_rg = all_sky.interp(latitude=new_lat_medRes, longitude=new_lon_medRes)\n",
    "    clr_sky_rg = clr_sky.interp(latitude=new_lat_medRes, longitude=new_lon_medRes)\n",
    "    net_cre_rg = net_cre.interp(latitude=new_lat_medRes, longitude=new_lon_medRes)\n",
    "    sw_cre_rg  = sw_cre.interp(latitude=new_lat_medRes, longitude=new_lon_medRes)\n",
    "    lw_cre_rg  = lw_cre.interp(latitude=new_lat_medRes, longitude=new_lon_medRes)\n",
    "    SST_rg     = SST.interp(latitude=new_lat_medRes, longitude=new_lon_medRes)\n",
    "    \n",
    "    all_sky_anom = get_anomaly(all_sky_rg,1)\n",
    "    clr_sky_anom = get_anomaly(clr_sky_rg,1)\n",
    "    net_cre_anom = get_anomaly(net_cre_rg,1)\n",
    "    sw_cre_anom  = get_anomaly(sw_cre_rg,1)\n",
    "    lw_cre_anom  = get_anomaly(lw_cre_rg,1)\n",
    "    SST_anom     = get_anomaly(SST_rg,1)\n",
    "    \n",
    "    return all_sky_anom, clr_sky_anom, net_cre_anom, sw_cre_anom, lw_cre_anom, SST_anom"
   ]
  },
  {
   "cell_type": "markdown",
   "metadata": {},
   "source": [
    "### Abrupt-4xCO2 "
   ]
  },
  {
   "cell_type": "code",
   "execution_count": null,
   "metadata": {},
   "outputs": [],
   "source": [
    "def get_abrupt_4xCO2_data(model,exp_type):\n",
    "    load_path = '/data/keeling/a/cristi/a/esm_data/cmip6/' #path for ESM data\n",
    "    \n",
    "    # All Sky\n",
    "    solar = xr.open_mfdataset(load_path+model+'/abrupt-4xCO2/'+exp_type+'/rsdt_*.nc',\n",
    "                              chunks={'lat':192,'lon':288,'time':252},\n",
    "                              drop_variables=['lat_bnds','lon_bnds'],use_cftime=True).rsdt.rename({'lat':'latitude','lon':'longitude'})[0:1800]\n",
    "    toa_sw_all = xr.open_mfdataset(load_path+model+'/abrupt-4xCO2/'+exp_type+'/rsut_*.nc',\n",
    "                                   chunks={'lat':192,'lon':288,'time':252},\n",
    "                                   drop_variables=['lat_bnds','lon_bnds'],use_cftime=True).rsut.rename({'lat':'latitude','lon':'longitude'})[0:1800]\n",
    "    toa_lw_all = xr.open_mfdataset(load_path+model+'/abrupt-4xCO2/'+exp_type+'/rlut_*.nc',\n",
    "                                   chunks={'lat':192,'lon':288,'time':252},\n",
    "                                   drop_variables=['lat_bnds','lon_bnds'],use_cftime=True).rlut.rename({'lat':'latitude','lon':'longitude'})[0:1800]\n",
    "    # Clear Sky\n",
    "    toa_sw_clr = xr.open_mfdataset(load_path+model+'/abrupt-4xCO2/'+exp_type+'/rsutcs_*.nc',\n",
    "                                   chunks={'lat':192,'lon':288,'time':252},\n",
    "                                   drop_variables=['lat_bnds','lon_bnds'],use_cftime=True).rsutcs.rename({'lat':'latitude','lon':'longitude'})[0:1800]\n",
    "    toa_lw_clr = xr.open_mfdataset(load_path+model+'/abrupt-4xCO2/'+exp_type+'/rlutcs_*.nc',\n",
    "                                   chunks={'lat':192,'lon':288,'time':252},\n",
    "                                   drop_variables=['lat_bnds','lon_bnds'],use_cftime=True).rlutcs.rename({'lat':'latitude','lon':'longitude'})[0:1800]\n",
    "    \n",
    "    # TAS\n",
    "    TAS = xr.open_mfdataset(load_path+model+'/abrupt-4xCO2/'+exp_type+'/tas_Amon_*.nc',\n",
    "                            chunks={'lat':192,'lon':288,'time':252},\n",
    "                            drop_variables=['lat_bnds','lon_bnds'],use_cftime=True).tas.rename({'lat':'latitude','lon':'longitude'})[0:1800]\n",
    "\n",
    "    all_sky = -(toa_sw_all + toa_lw_all - solar)\n",
    "    clr_sky = -(toa_sw_clr + toa_lw_clr - solar)\n",
    "    net_cre = all_sky - clr_sky\n",
    "    sw_cre  = -(toa_sw_all - toa_sw_clr)\n",
    "    lw_cre  = -(toa_lw_all - toa_lw_clr)\n",
    "    \n",
    "    all_sky_rg = all_sky.interp(latitude=new_lat_medRes, longitude=new_lon_medRes)\n",
    "    clr_sky_rg = clr_sky.interp(latitude=new_lat_medRes, longitude=new_lon_medRes)\n",
    "    net_cre_rg = net_cre.interp(latitude=new_lat_medRes, longitude=new_lon_medRes)\n",
    "    sw_cre_rg  = sw_cre.interp(latitude=new_lat_medRes, longitude=new_lon_medRes)\n",
    "    lw_cre_rg  = lw_cre.interp(latitude=new_lat_medRes, longitude=new_lon_medRes)\n",
    "    TAS_rg     = TAS.interp(latitude=new_lat_medRes, longitude=new_lon_medRes)\n",
    "    \n",
    "    all_sky_anom = get_anomaly(all_sky_rg,0)\n",
    "    clr_sky_anom = get_anomaly(clr_sky_rg,0)\n",
    "    net_cre_anom = get_anomaly(net_cre_rg,0)\n",
    "    sw_cre_anom  = get_anomaly(sw_cre_rg,0)\n",
    "    lw_cre_anom  = get_anomaly(lw_cre_rg,0)\n",
    "    TAS_anom     = get_anomaly(TAS_rg,0)\n",
    "    \n",
    "    time_range = pd.date_range(start='1850-01',end='2000-01',freq='1M')\n",
    "    all_sky_anom['time'] = time_range\n",
    "    clr_sky_anom['time'] = time_range\n",
    "    net_cre_anom['time'] = time_range\n",
    "    sw_cre_anom['time']  = time_range\n",
    "    lw_cre_anom['time']  = time_range\n",
    "    TAS_anom['time']     = time_range\n",
    "    \n",
    "    return all_sky_anom, clr_sky_anom, net_cre_anom, sw_cre_anom, lw_cre_anom, TAS_anom"
   ]
  }
 ],
 "metadata": {
  "kernelspec": {
   "display_name": "Python 3 (ipykernel)",
   "language": "python",
   "name": "python3"
  },
  "language_info": {
   "codemirror_mode": {
    "name": "ipython",
    "version": 3
   },
   "file_extension": ".py",
   "mimetype": "text/x-python",
   "name": "python",
   "nbconvert_exporter": "python",
   "pygments_lexer": "ipython3",
   "version": "3.8.18"
  }
 },
 "nbformat": 4,
 "nbformat_minor": 4
}
