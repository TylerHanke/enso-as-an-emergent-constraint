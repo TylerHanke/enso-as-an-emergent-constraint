{
 "cells": [
  {
   "cell_type": "code",
   "execution_count": null,
   "id": "d3a816db",
   "metadata": {},
   "outputs": [],
   "source": [
    "## Create lat, lon maps of SST and radiation EOFs\n",
    "def spatial_maps(maps,ds_list,i,j,plt_names,row_title,levels):\n",
    "    # Plot names\n",
    "    if plt_names == 'comp_plots':\n",
    "        title = ['Equilibrium','Historical (1870)','Historical (1979)','Diff (Eq - His1870)','Diff (Eq - His1979)','ENSO - AMIP','ENSO - Obs']\n",
    "        \n",
    "    cmap = plt.get_cmap('RdBu_r')\n",
    "    text_pos = [0.75,0.47,0.13]\n",
    "    \n",
    "    if i == 0:\n",
    "        levels = np.linspace(-1.4,1.4,8)\n",
    "    \n",
    "    # make a filled contour plot for the spatiotemporal data\n",
    "    cbar1_data = ax[i][j].contourf(maps[ds_list[j]].longitude,maps[ds_list[j]].latitude,maps[ds_list[j]][i],\n",
    "                                   transform=ccrs.PlateCarree(),\n",
    "                                   cmap=cmap,add_colorbar=False,levels=levels,extend='both')\n",
    "    \n",
    "    # add cartopy features\n",
    "    ax[i][j].coastlines(linewidth=0.5)\n",
    "    ax[i][j].outline_patch.set_linewidth(0.5)\n",
    "    ax[i][j].set_aspect('auto')\n",
    "    ax[i][j].set_global()\n",
    "    ax[i][j].add_feature(cartopy.feature.LAND,zorder=100,facecolor='w',edgecolor='k',linewidth=0.5)\n",
    "\n",
    "    # First row titles\n",
    "    fig.text(s=row_title[i], y=text_pos[i], x=-0.03, rotation=60, fontsize=7.5)\n",
    "\n",
    "    # Only give first row titles and all other rows nothing\n",
    "    if i == 0:\n",
    "        ax[i][j].set_title(title[j], fontsize=7.5)\n",
    "        # colorbar\n",
    "        if j == 6:\n",
    "            cbar1_ax = fig.add_axes([1, 0.68, 0.01, 0.27])\n",
    "            cbar1 = fig.colorbar(cbar1_data, cax=cbar1_ax, orientation='vertical', extend='both', format='%0.2f', ticks=np.linspace(-1.4,1.4,8))\n",
    "            cbar1.ax.tick_params(labelsize=7)\n",
    "            cbar1.set_label(label='$K/K$', size=7)\n",
    "    # colorbar\n",
    "    elif i == 1 and j == 6:\n",
    "        cbar1_ax = fig.add_axes([1, 0.05, 0.01, 0.57])\n",
    "        cbar1 = fig.colorbar(cbar1_data, cax=cbar1_ax, orientation='vertical', extend='both', format='%0.2f', ticks=levels)\n",
    "        cbar1.ax.tick_params(labelsize=7)\n",
    "        cbar1.set_label(label='$W/m^2/K$', size=7)\n",
    "\n",
    "        ax[i][i].set_title(None) \n",
    "    else:\n",
    "        ax[i][i].set_title(None)"
   ]
  },
  {
   "cell_type": "code",
   "execution_count": null,
   "id": "32f40a11",
   "metadata": {},
   "outputs": [],
   "source": [
    "fig, ax = plt.subplots(3,7,figsize=(8,3),subplot_kw={'projection': ccrs.Robinson(central_longitude=180)},dpi=400)\n",
    "fig.tight_layout(w_pad=1)\n",
    "\n",
    "# Create spatial maps for surface temp, net feedback, and net cloud feedback\n",
    "for i in range(0,3):\n",
    "    for j in range(0,7):\n",
    "        ax[i][j]._autoscaleXon = False\n",
    "        ax[i][j]._autoscaleYon = False\n",
    "\n",
    "        spatial_maps(maps2plot.transpose('variable',...),list(maps2plot.keys()),i,j,'comp_plots',\n",
    "                     ['Surface T', 'All Sky', 'Net CRE'],np.linspace(-5.4,5.4,10))\n",
    "        \n",
    "path = '/data/keeling/a/tjhanke2/enso-as-an-emergent-constraint/outputs/'\n",
    "fig.savefig(path+'spatial_maps_pattern_effect_enso_tot.png',bbox_inches='tight')"
   ]
  }
 ],
 "metadata": {
  "kernelspec": {
   "display_name": "Python 3 (ipykernel)",
   "language": "python",
   "name": "python3"
  },
  "language_info": {
   "codemirror_mode": {
    "name": "ipython",
    "version": 3
   },
   "file_extension": ".py",
   "mimetype": "text/x-python",
   "name": "python",
   "nbconvert_exporter": "python",
   "pygments_lexer": "ipython3",
   "version": "3.8.18"
  }
 },
 "nbformat": 4,
 "nbformat_minor": 5
}
