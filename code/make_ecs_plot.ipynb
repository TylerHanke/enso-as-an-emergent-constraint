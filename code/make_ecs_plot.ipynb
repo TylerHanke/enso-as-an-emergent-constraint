{
 "cells": [
  {
   "cell_type": "code",
   "execution_count": null,
   "id": "e19d0c9f",
   "metadata": {},
   "outputs": [],
   "source": [
    "# plot histograms of ECS for historical and equilibrium simulations\n",
    "def ecs_plot():\n",
    "    fig = plt.figure(dpi=400)\n",
    "\n",
    "    plt.hist([ECS_hist_1979,ECS_hist_1870],bins=np.arange(0,7.5,0.5),color=['#337538','#2E2585'],ec='black',stacked=True)\n",
    "    plt.hist(ECS_eq,bins=np.arange(0,7.5,0.5),color='#C26A77',ec='black')\n",
    "\n",
    "    plt.ylim([0,6])\n",
    "    plt.ylabel('Model Count')\n",
    "    plt.xlabel('ECS (K)')\n",
    "    plt.text(x=-0.25,y=3.25,s='amip-piForcing \\n (1979 - 2014)',color='#337538',fontweight='bold',fontsize=9)\n",
    "    plt.text(x=1.25,y=5.25,s='amip-piForcing \\n (1870 - 2014)',color='#2E2585',fontweight='bold',fontsize=9)\n",
    "    plt.text(x=4,y=2.5,s='abrupt-4xCO2',color='#C26A77',fontweight='bold',fontsize=9);\n",
    "\n",
    "    path = '/data/keeling/a/tjhanke2/enso-as-an-emergent-constraint/outputs/'\n",
    "    plt.savefig(path+'ECS_1979_and_1870-2014.png')"
   ]
  },
  {
   "cell_type": "code",
   "execution_count": null,
   "id": "88b0024a",
   "metadata": {},
   "outputs": [],
   "source": [
    "ecs_plot()"
   ]
  }
 ],
 "metadata": {
  "kernelspec": {
   "display_name": "Python 3 (ipykernel)",
   "language": "python",
   "name": "python3"
  },
  "language_info": {
   "codemirror_mode": {
    "name": "ipython",
    "version": 3
   },
   "file_extension": ".py",
   "mimetype": "text/x-python",
   "name": "python",
   "nbconvert_exporter": "python",
   "pygments_lexer": "ipython3",
   "version": "3.8.18"
  }
 },
 "nbformat": 4,
 "nbformat_minor": 5
}
