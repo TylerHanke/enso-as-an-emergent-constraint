{
 "cells": [
  {
   "cell_type": "markdown",
   "id": "d1fda0da",
   "metadata": {},
   "source": [
    "### Historical (1870 - 2014)"
   ]
  },
  {
   "cell_type": "code",
   "execution_count": null,
   "id": "bb9a40da",
   "metadata": {},
   "outputs": [],
   "source": [
    "# Models that ran amip-piForcing simulation\n",
    "models = ['CanESM5','CESM2','CNRM-CM6-1','HadGEM3-GC31-LL',\n",
    "          'IPSL-CM6A-LR','MIROC6','MRI-ESM2-0','TaiESM1']\n",
    "\n",
    "# retrieve historical data files\n",
    "lambda_hist_1870 = glob.glob('/data/keeling/a/tjhanke2/enso-as-an-emergent-constraint/data/post_processed_data/*/lambda_*_amip-piForcing_*_18*.nc')\n",
    "tas_hist_1870 = glob.glob('/data/keeling/a/tjhanke2/enso-as-an-emergent-constraint/data/post_processed_data/*/TAS_*amip-piForcing_*_18*.nc')\n",
    "\n",
    "# concatenate historical data files into single xarray dataset\n",
    "load_toa_h_1870 = []\n",
    "load_tas_h_1870 = []\n",
    "for i in range(0,len(lambda_hist_1870)):\n",
    "    load_toa_h_1870.append(xr.open_dataset(lambda_hist_1870[i]))\n",
    "    load_tas_h_1870.append(xr.open_dataset(tas_hist_1870[i]).__xarray_dataarray_variable__)\n",
    "\n",
    "# historical TOA feedback / surface temp using entire amip-piForcing simulation\n",
    "toa_h_1870 = xr.concat(load_toa_h_1870,dim='model').assign_coords({'model':models})\n",
    "tas_h_1870 = xr.concat(load_tas_h_1870,dim='model',coords='minimal',compat='override').assign_coords({'model':models})\n",
    "\n",
    "ds_h_1870 = toa_h_1870.assign(surf_temp=tas_h_1870)"
   ]
  },
  {
   "cell_type": "markdown",
   "id": "74765914",
   "metadata": {},
   "source": [
    "### Historical (1979 - 2014) "
   ]
  },
  {
   "cell_type": "code",
   "execution_count": null,
   "id": "16756c4f",
   "metadata": {},
   "outputs": [],
   "source": [
    "# retrieve historical (AMIP interval) data files\n",
    "lambda_hist_1979 = glob.glob('/data/keeling/a/tjhanke2/enso-as-an-emergent-constraint/data/post_processed_data/*/lambda_*_amip-piForcing_*_19*.nc')\n",
    "tas_hist_1979 = glob.glob('/data/keeling/a/tjhanke2/enso-as-an-emergent-constraint/data/post_processed_data/*/TAS_*amip-piForcing_*_19*.nc')\n",
    "\n",
    "# concatenate historical data files into single xarray dataset\n",
    "load_toa_h_1979 = []\n",
    "load_tas_h_1979 = []\n",
    "for i in range(0,len(lambda_hist_1979)):\n",
    "    load_toa_h_1979.append(xr.open_dataset(lambda_hist_1979[i]))\n",
    "    load_tas_h_1979.append(xr.open_dataset(tas_hist_1979[i]).__xarray_dataarray_variable__)\n",
    "\n",
    "# historical TOA feedback / surface temp using AMIP interval\n",
    "toa_h_1979 = xr.concat(load_toa_h_1979,dim='model').assign_coords({'model':models})\n",
    "tas_h_1979 = xr.concat(load_tas_h_1979,dim='model',coords='minimal',compat='override').assign_coords({'model':models})\n",
    "\n",
    "ds_h_1979 = toa_h_1979.assign(surf_temp=tas_h_1979)"
   ]
  },
  {
   "cell_type": "markdown",
   "id": "2f50624b",
   "metadata": {},
   "source": [
    "### Equilibrium"
   ]
  },
  {
   "cell_type": "code",
   "execution_count": null,
   "id": "96632428",
   "metadata": {},
   "outputs": [],
   "source": [
    "# retrieve equilibrium data files\n",
    "lambda_abrupt = glob.glob('/data/keeling/a/tjhanke2/enso-as-an-emergent-constraint/data/post_processed_data/*/lambda_*_abrupt-4xCO2_*.nc')\n",
    "tas_abrupt = glob.glob('/data/keeling/a/tjhanke2/enso-as-an-emergent-constraint/data/post_processed_data/*/TAS_*abrupt-4xCO2_*.nc')\n",
    "\n",
    "# concatenate equilibrium data files into single xarray dataset\n",
    "load_toa_a = []\n",
    "load_tas_a = []\n",
    "for i in range(0,len(lambda_abrupt)):\n",
    "    load_toa_a.append(xr.open_dataset(lambda_abrupt[i]))\n",
    "    load_tas_a.append(xr.open_dataset(tas_abrupt[i]).__xarray_dataarray_variable__)\n",
    "\n",
    "# equilibrium TOA feedback / surface temp\n",
    "toa_a = xr.concat(load_toa_a,dim='model').assign_coords({'model':models})\n",
    "tas_a = xr.concat(load_tas_a,dim='model',coords='minimal',compat='override').assign_coords({'model':models})\n",
    "\n",
    "ds_a = toa_a.assign(surf_temp=tas_a)"
   ]
  },
  {
   "cell_type": "markdown",
   "id": "29a1f658",
   "metadata": {},
   "source": [
    "### ENSO (amip)"
   ]
  },
  {
   "cell_type": "code",
   "execution_count": null,
   "id": "57c746c0",
   "metadata": {},
   "outputs": [],
   "source": [
    "# retrieve ENSO feedback data files (obtained from amip simulations)\n",
    "lambda_enso = glob.glob('/data/keeling/a/tjhanke2/enso-as-an-emergent-constraint/data/post_processed_data/*/lambda_ENSO_*_amip_*_2001*.nc')\n",
    "tas_enso = glob.glob('/data/keeling/a/tjhanke2/enso-as-an-emergent-constraint/data/post_processed_data/*/ENSO_SST_*_amip_*_2001*.nc')\n",
    "\n",
    "# concatenate ENSO feedback data files into single xarray dataset\n",
    "load_toa_e = []\n",
    "load_tas_e = []\n",
    "for i in range(0,len(lambda_enso)):\n",
    "    load_toa_e.append(xr.open_dataset(lambda_enso[i]))\n",
    "    load_tas_e.append(xr.open_dataset(tas_enso[i]).__xarray_dataarray_variable__)\n",
    "\n",
    "# ENSO TOA feedback / surface temp\n",
    "toa_e = xr.concat(load_toa_e,dim='model').assign_coords({'model':models})\n",
    "tas_e = xr.concat(load_tas_e,dim='model',coords='minimal',compat='override').assign_coords({'model':models})\n",
    "\n",
    "ds_e = toa_e.assign(surf_temp=tas_e)\n",
    "\n",
    "# Get the maximum lag for the ENSO feedback\n",
    "ds_e_max = ds_e.to_array().sel(lag=(global_mean(ds_e).argmax(dim='lag')-12).to_array()).to_dataset(dim='variable').interp(latitude=toa_h_1979.latitude,longitude=toa_h_1979.longitude)"
   ]
  },
  {
   "cell_type": "markdown",
   "id": "c5474795",
   "metadata": {},
   "source": [
    "### ENSO (amip-piForcing)"
   ]
  },
  {
   "cell_type": "code",
   "execution_count": null,
   "id": "8d386fd7",
   "metadata": {},
   "outputs": [],
   "source": [
    "# retrieve ENSO feedback data files (obtained from amip-piForcing simulations)\n",
    "lambda_enso_pF = glob.glob('/data/keeling/a/tjhanke2/enso-as-an-emergent-constraint/data/post_processed_data/*/lambda_ENSO_*_piForcing_*_2001*.nc')\n",
    "tas_enso_pF = glob.glob('/data/keeling/a/tjhanke2/enso-as-an-emergent-constraint/data/post_processed_data/*/ENSO_SST_*_piForcing_*_2001*.nc')\n",
    "\n",
    "# concatenate ENSO feedback data files into single xarray dataset\n",
    "load_toa_e_pF = []\n",
    "load_tas_e_pF = []\n",
    "for i in range(0,len(lambda_enso)):\n",
    "    load_toa_e_pF.append(xr.open_dataset(lambda_enso_pF[i]))\n",
    "    load_tas_e_pF.append(xr.open_dataset(tas_enso_pF[i]).__xarray_dataarray_variable__)\n",
    "\n",
    "# ENSO TOA feedback / surface temp (amip-piForcing)\n",
    "toa_e_pF = xr.concat(load_toa_e_pF,dim='model').assign_coords({'model':models})\n",
    "tas_e_pF = xr.concat(load_tas_e_pF,dim='model',coords='minimal',compat='override').assign_coords({'model':models})\n",
    "\n",
    "ds_e_pF = toa_e_pF.assign(surf_temp=tas_e_pF)"
   ]
  },
  {
   "cell_type": "markdown",
   "id": "cafc28b7",
   "metadata": {},
   "source": [
    "### ENSO (obs - 2001-2014) "
   ]
  },
  {
   "cell_type": "code",
   "execution_count": null,
   "id": "d7745ddd",
   "metadata": {},
   "outputs": [],
   "source": [
    "# retrieve observational (2001-2014) ENSO feedback / surface temp data files\n",
    "lambda_obs_enso_2014_full_field = glob.glob('/data/keeling/a/tjhanke2/enso-as-an-emergent-constraint/data/post_processed_data/_obs/rad_*_2001-2014_full-field.nc')\n",
    "lambda_obs_enso_2014 = glob.glob('/data/keeling/a/tjhanke2/enso-as-an-emergent-constraint/data/post_processed_data/_obs/rad_*_2001-2014.nc')\n",
    "tas_obs_enso_2014 = glob.glob('/data/keeling/a/tjhanke2/enso-as-an-emergent-constraint/data/post_processed_data/_obs/SST_*.nc')\n",
    "\n",
    "# load observational (2001-2014) ENSO feedback / surface temp data files\n",
    "toa_eo_2014_full_field = xr.open_dataset(lambda_obs_enso_2014_full_field[0])\n",
    "toa_eo_2014_gm = xr.open_dataset(lambda_obs_enso_2014[0])\n",
    "# confidence intervals for obs (2001-2014) ENSO data\n",
    "toa_eo_ci_2014_gm = xr.open_dataset(lambda_obs_enso_2014[1]).assign_coords({'dim_0':['lower','upper']}).rename({'dim_0':'ci'})\n",
    "toa_eo_68ci_2014_gm = xr.open_dataset(lambda_obs_enso_2014[2]).assign_coords({'dim_0':['lower','upper']}).rename({'dim_0':'ci'})\n",
    "tas_eo_2014 = xr.open_dataset(tas_obs_enso_2014[0]).__xarray_dataarray_variable__.load()\n",
    "\n",
    "ds_eo_2014_gm = toa_eo_2014_gm.assign(surf_temp=global_mean(tas_eo_2014))\n",
    "ds_eo_2014 = toa_eo_2014_full_field.assign(surf_temp=tas_eo_2014)\n",
    "\n",
    "# Get the maximum lag for the ENSO feedback\n",
    "ds_eo_2014_max = ds_eo_2014.to_array().sel(lag=(global_mean(ds_eo_2014).argmax(dim='lag')-12).to_array()).to_dataset(dim='variable').interp(latitude=toa_h_1870.latitude,longitude=toa_h_1870.longitude)\n",
    "\n",
    "# find the maximum lag for each of the ENSO feedbacks (confidence intervals)\n",
    "toa_eo_ci_2014_max_gm = toa_eo_ci_2014_gm.to_array().sel(lag=((toa_eo_2014_gm.rename({'all_sky':'all_sky_ci',\n",
    "                                                                             'clr_sky':'clr_sky_ci',\n",
    "                                                                             'net_cre':'net_cre_ci',\n",
    "                                                                             'sw_cre':'sw_cre_ci',\n",
    "                                                                             'lw_cre':'lw_cre_ci'})).argmax(dim='lag')-12).to_array()).to_dataset(dim='variable')\n",
    "toa_eo_68ci_2014_max_gm = toa_eo_68ci_2014_gm.to_array().sel(lag=((toa_eo_2014_gm.rename({'all_sky':'all_sky_ci',\n",
    "                                                                                 'clr_sky':'clr_sky_ci',\n",
    "                                                                                 'net_cre':'net_cre_ci',\n",
    "                                                                                 'sw_cre':'sw_cre_ci',\n",
    "                                                                                 'lw_cre':'lw_cre_ci'})).argmax(dim='lag')-12).to_array()).to_dataset(dim='variable')"
   ]
  },
  {
   "cell_type": "markdown",
   "id": "c78951fb",
   "metadata": {},
   "source": [
    "### ENSO (obs - 2001-2023)"
   ]
  },
  {
   "cell_type": "code",
   "execution_count": null,
   "id": "4903e7c6",
   "metadata": {},
   "outputs": [],
   "source": [
    "# retrieve observational (2001-2023) ENSO feedback / surface temp data files\n",
    "lambda_obs_enso_2023 = glob.glob('/data/keeling/a/tjhanke2/enso-as-an-emergent-constraint/data/post_processed_data/_obs/rad_*_2001-2023.nc')\n",
    "tas_obs_enso_2023 = glob.glob('/data/keeling/a/tjhanke2/enso-as-an-emergent-constraint/data/post_processed_data/_obs/SST_*.nc')\n",
    "\n",
    "# load observational (2001-2023) ENSO feedback / surface temp data files\n",
    "toa_eo_2023_gm = xr.open_dataset(lambda_obs_enso_2023[0])\n",
    "# confidence intervals for obs (2001-2023) ENSO data\n",
    "toa_eo_ci_2023_gm = xr.open_dataset(lambda_obs_enso_2023[2]).assign_coords({'dim_0':['lower','upper']}).rename({'dim_0':'ci'})\n",
    "toa_eo_68ci_2023_gm = xr.open_dataset(lambda_obs_enso_2023[1]).assign_coords({'dim_0':['lower','upper']}).rename({'dim_0':'ci'})\n",
    "tas_eo_2023 = xr.open_dataset(tas_obs_enso_2023[0]).__xarray_dataarray_variable__.load()\n",
    "\n",
    "ds_eo_2023_gm = toa_eo_2023_gm.assign(surf_temp=global_mean(tas_eo_2023))\n",
    "\n",
    "# find the maximum lag for each of the ENSO feedbacks (confidence intervals)\n",
    "toa_eo_ci_2023_max_gm = toa_eo_ci_2023_gm.to_array().sel(lag=((toa_eo_2023_gm.rename({'all_sky':'all_sky_ci',\n",
    "                                                                             'clr_sky':'clr_sky_ci',\n",
    "                                                                             'net_cre':'net_cre_ci',\n",
    "                                                                             'sw_cre':'sw_cre_ci',\n",
    "                                                                             'lw_cre':'lw_cre_ci'})).argmax(dim='lag')-12).to_array()).to_dataset(dim='variable')\n",
    "toa_eo_68ci_2023_max_gm = toa_eo_68ci_2023_gm.to_array().sel(lag=((toa_eo_2023_gm.rename({'all_sky':'all_sky_ci',\n",
    "                                                                                 'clr_sky':'clr_sky_ci',\n",
    "                                                                                 'net_cre':'net_cre_ci',\n",
    "                                                                                 'sw_cre':'sw_cre_ci',\n",
    "                                                                                 'lw_cre':'lw_cre_ci'})).argmax(dim='lag')-12).to_array()).to_dataset(dim='variable')"
   ]
  }
 ],
 "metadata": {
  "kernelspec": {
   "display_name": "Python 3 (ipykernel)",
   "language": "python",
   "name": "python3"
  },
  "language_info": {
   "codemirror_mode": {
    "name": "ipython",
    "version": 3
   },
   "file_extension": ".py",
   "mimetype": "text/x-python",
   "name": "python",
   "nbconvert_exporter": "python",
   "pygments_lexer": "ipython3",
   "version": "3.8.18"
  }
 },
 "nbformat": 4,
 "nbformat_minor": 5
}
